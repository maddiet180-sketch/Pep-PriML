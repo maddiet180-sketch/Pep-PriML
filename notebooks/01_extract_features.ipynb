from pep_priml.io_utils import load_config, save_features
from pep_priml.feature_extraction import extract_all_features

config = load_config("src/pep_pri_ml/config.yaml")

features_df, std_df = extract_all_features(config)
save_features(features_df, f"{config['output_dir']}/final_features.csv")
